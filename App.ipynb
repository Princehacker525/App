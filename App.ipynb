{
  "nbformat": 4,
  "nbformat_minor": 0,
  "metadata": {
    "colab": {
      "provenance": [],
      "authorship_tag": "ABX9TyOcr1o1dFWhw24IzpvEs+Od",
      "include_colab_link": true
    },
    "kernelspec": {
      "name": "python3",
      "display_name": "Python 3"
    },
    "language_info": {
      "name": "python"
    }
  },
  "cells": [
    {
      "cell_type": "markdown",
      "metadata": {
        "id": "view-in-github",
        "colab_type": "text"
      },
      "source": [
        "<a href=\"https://colab.research.google.com/github/Princehacker525/App/blob/main/App.ipynb\" target=\"_parent\"><img src=\"https://colab.research.google.com/assets/colab-badge.svg\" alt=\"Open In Colab\"/></a>"
      ]
    },
    {
      "cell_type": "code",
      "execution_count": 33,
      "metadata": {
        "id": "miaiHGN-AWrt",
        "colab": {
          "base_uri": "https://localhost:8080/"
        },
        "outputId": "e99198fe-f6a9-4e83-b9e8-605cbe6c57ed"
      },
      "outputs": [
        {
          "output_type": "stream",
          "name": "stdout",
          "text": [
            "apt 2.4.11 (amd64)\n",
            "Usage: apt [options] command\n",
            "\n",
            "apt is a commandline package manager and provides commands for\n",
            "searching and managing as well as querying information about packages.\n",
            "It provides the same functionality as the specialized APT tools,\n",
            "like apt-get and apt-cache, but enables options more suitable for\n",
            "interactive use by default.\n",
            "\n",
            "Most used commands:\n",
            "  list - list packages based on package names\n",
            "  search - search in package descriptions\n",
            "  show - show package details\n",
            "  install - install packages\n",
            "  reinstall - reinstall packages\n",
            "  remove - remove packages\n",
            "  autoremove - Remove automatically all unused packages\n",
            "  update - update list of available packages\n",
            "  upgrade - upgrade the system by installing/upgrading packages\n",
            "  full-upgrade - upgrade the system by removing/installing/upgrading packages\n",
            "  edit-sources - edit the source information file\n",
            "  satisfy - satisfy dependency strings\n",
            "\n",
            "See apt(8) for more information about the available commands.\n",
            "Configuration options and syntax is detailed in apt.conf(5).\n",
            "Information about how to configure sources can be found in sources.list(5).\n",
            "Package and version choices can be expressed via apt_preferences(5).\n",
            "Security details are available in apt-secure(8).\n",
            "                                        This APT has Super Cow Powers.\n"
          ]
        }
      ],
      "source": [
        "!apt"
      ]
    },
    {
      "cell_type": "code",
      "source": [],
      "metadata": {
        "id": "LlR5wZwm9W0f"
      },
      "execution_count": 32,
      "outputs": []
    }
  ]
}